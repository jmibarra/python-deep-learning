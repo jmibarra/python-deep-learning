{
  "nbformat": 4,
  "nbformat_minor": 0,
  "metadata": {
    "accelerator": "GPU",
    "colab": {
      "name": "RNR - Entrenamiento noticias.ipynb",
      "provenance": [],
      "collapsed_sections": []
    },
    "kernelspec": {
      "name": "python3",
      "display_name": "Python 3"
    }
  },
  "cells": [
    {
      "cell_type": "markdown",
      "metadata": {
        "id": "eK8eUOQU7q2V"
      },
      "source": [
        "# 13. Redes neuronales recurrentes\n",
        "[**Python Deep Learning** Introducción práctica con Keras y TensorFlow 2. Jordi Torres. Editorial Marcombo ISBN: 9788426728289 ](https://www.marcombo.com/python-deep-learning-9788426728289/)"
      ]
    },
    {
      "cell_type": "markdown",
      "metadata": {
        "id": "WGyKZj3bzf9p"
      },
      "source": [
        "### Importar TensorFlow 2.0  y otras librerias"
      ]
    },
    {
      "cell_type": "code",
      "metadata": {
        "id": "zWrJnG1jZd00"
      },
      "source": [
        "%tensorflow_version 2.x\n",
        "import tensorflow as tf\n",
        "from tensorflow import keras\n",
        "\n",
        "import numpy as np\n",
        "import os\n",
        "import time"
      ],
      "execution_count": null,
      "outputs": []
    },
    {
      "cell_type": "markdown",
      "metadata": {
        "id": "EHDoRoc5PKWz"
      },
      "source": [
        "### Descarga del conjunto de datos"
      ]
    },
    {
      "cell_type": "code",
      "metadata": {
        "id": "qEt4CQ0ru7O5",
        "colab": {
          "resources": {
            "http://localhost:8080/nbextensions/google.colab/files.js": {
              "data": "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",
              "ok": true,
              "headers": [
                [
                  "content-type",
                  "application/javascript"
                ]
              ],
              "status": 200,
              "status_text": ""
            }
          },
          "base_uri": "https://localhost:8080/",
          "height": 73
        },
        "outputId": "ca17b6c7-7324-4ad1-ddff-cf35c84286c8"
      },
      "source": [
        "\n",
        "from google.colab import files\n",
        "#se debe cargar el fichero “Libro-Deep-Learning-introduccion-practica-con-Keras-1a-parte.txt”\n",
        "files.upload()\n",
        "\n",
        "path_to_fileDL ='/content/noticias.txt'\n",
        "\n",
        "#path_to_fileDL = tf.keras.utils.get_file('Shakespear.txt', 'https://cs.stanford.edu/people/karpathy/char-rnn/shakespear.txt')\n"
      ],
      "execution_count": null,
      "outputs": [
        {
          "output_type": "display_data",
          "data": {
            "text/plain": [
              "<IPython.core.display.HTML object>"
            ],
            "text/html": [
              "\n",
              "     <input type=\"file\" id=\"files-6fcad00c-2d30-4797-862d-aae51cf4a9bd\" name=\"files[]\" multiple disabled\n",
              "        style=\"border:none\" />\n",
              "     <output id=\"result-6fcad00c-2d30-4797-862d-aae51cf4a9bd\">\n",
              "      Upload widget is only available when the cell has been executed in the\n",
              "      current browser session. Please rerun this cell to enable.\n",
              "      </output>\n",
              "      <script src=\"/nbextensions/google.colab/files.js\"></script> "
            ]
          },
          "metadata": {}
        },
        {
          "output_type": "stream",
          "name": "stdout",
          "text": [
            "Saving noticias.txt to noticias.txt\n"
          ]
        }
      ]
    },
    {
      "cell_type": "code",
      "metadata": {
        "id": "pD_55cOxLkAb",
        "outputId": "27f3e047-6974-43f2-efce-bde9f21ce3fe",
        "colab": {
          "base_uri": "https://localhost:8080/"
        }
      },
      "source": [
        "\n",
        "\n",
        "text = open(path_to_fileDL, 'rb').read().decode(encoding='utf-8')\n",
        "print('Longitud del texto:        {} carácteres'.format(len(text)))\n",
        "\n",
        "vocab = sorted(set(text))\n",
        "\n",
        "print ('El texto está compuesto de estos {} carácteres:'.format(len(vocab)))\n",
        "print (vocab)"
      ],
      "execution_count": null,
      "outputs": [
        {
          "output_type": "stream",
          "name": "stdout",
          "text": [
            "Longitud del texto:        239264 carácteres\n",
            "El texto está compuesto de estos 110 carácteres:\n",
            "['\\n', ' ', '!', '\"', '#', '%', '&', \"'\", '(', ')', '*', '+', ',', '-', '.', '/', '0', '1', '2', '3', '4', '5', '6', '7', '8', '9', ':', ';', '?', '@', 'A', 'B', 'C', 'D', 'E', 'F', 'G', 'H', 'I', 'J', 'K', 'L', 'M', 'N', 'O', 'P', 'Q', 'R', 'S', 'T', 'U', 'V', 'W', 'X', 'Y', 'Z', '[', ']', 'a', 'b', 'c', 'd', 'e', 'f', 'g', 'h', 'i', 'j', 'k', 'l', 'm', 'n', 'o', 'p', 'q', 'r', 's', 't', 'u', 'v', 'w', 'x', 'y', 'z', '|', '¡', 'ª', '«', 'º', '»', '¿', 'À', 'Á', 'É', 'Í', 'Ó', 'Ú', 'à', 'á', 'ç', 'è', 'é', 'í', 'ñ', 'ó', 'ú', 'ü', '“', '”', '…']\n"
          ]
        }
      ]
    },
    {
      "cell_type": "code",
      "metadata": {
        "id": "IalZLbvOzf-F",
        "outputId": "fac270cf-5013-43f7-8cdf-5720796c417b",
        "colab": {
          "base_uri": "https://localhost:8080/"
        }
      },
      "source": [
        "char2idx = {u:i for i, u in enumerate(vocab)}\n",
        "idx2char = np.array(vocab)\n",
        "\n",
        "for char,_ in zip(char2idx, range(len(vocab))):\n",
        "    print('  {:4s}: {:3d},'.format(repr(char), char2idx[char]))"
      ],
      "execution_count": null,
      "outputs": [
        {
          "output_type": "stream",
          "name": "stdout",
          "text": [
            "  '\\n':   0,\n",
            "  ' ' :   1,\n",
            "  '!' :   2,\n",
            "  '\"' :   3,\n",
            "  '#' :   4,\n",
            "  '%' :   5,\n",
            "  '&' :   6,\n",
            "  \"'\" :   7,\n",
            "  '(' :   8,\n",
            "  ')' :   9,\n",
            "  '*' :  10,\n",
            "  '+' :  11,\n",
            "  ',' :  12,\n",
            "  '-' :  13,\n",
            "  '.' :  14,\n",
            "  '/' :  15,\n",
            "  '0' :  16,\n",
            "  '1' :  17,\n",
            "  '2' :  18,\n",
            "  '3' :  19,\n",
            "  '4' :  20,\n",
            "  '5' :  21,\n",
            "  '6' :  22,\n",
            "  '7' :  23,\n",
            "  '8' :  24,\n",
            "  '9' :  25,\n",
            "  ':' :  26,\n",
            "  ';' :  27,\n",
            "  '?' :  28,\n",
            "  '@' :  29,\n",
            "  'A' :  30,\n",
            "  'B' :  31,\n",
            "  'C' :  32,\n",
            "  'D' :  33,\n",
            "  'E' :  34,\n",
            "  'F' :  35,\n",
            "  'G' :  36,\n",
            "  'H' :  37,\n",
            "  'I' :  38,\n",
            "  'J' :  39,\n",
            "  'K' :  40,\n",
            "  'L' :  41,\n",
            "  'M' :  42,\n",
            "  'N' :  43,\n",
            "  'O' :  44,\n",
            "  'P' :  45,\n",
            "  'Q' :  46,\n",
            "  'R' :  47,\n",
            "  'S' :  48,\n",
            "  'T' :  49,\n",
            "  'U' :  50,\n",
            "  'V' :  51,\n",
            "  'W' :  52,\n",
            "  'X' :  53,\n",
            "  'Y' :  54,\n",
            "  'Z' :  55,\n",
            "  '[' :  56,\n",
            "  ']' :  57,\n",
            "  'a' :  58,\n",
            "  'b' :  59,\n",
            "  'c' :  60,\n",
            "  'd' :  61,\n",
            "  'e' :  62,\n",
            "  'f' :  63,\n",
            "  'g' :  64,\n",
            "  'h' :  65,\n",
            "  'i' :  66,\n",
            "  'j' :  67,\n",
            "  'k' :  68,\n",
            "  'l' :  69,\n",
            "  'm' :  70,\n",
            "  'n' :  71,\n",
            "  'o' :  72,\n",
            "  'p' :  73,\n",
            "  'q' :  74,\n",
            "  'r' :  75,\n",
            "  's' :  76,\n",
            "  't' :  77,\n",
            "  'u' :  78,\n",
            "  'v' :  79,\n",
            "  'w' :  80,\n",
            "  'x' :  81,\n",
            "  'y' :  82,\n",
            "  'z' :  83,\n",
            "  '|' :  84,\n",
            "  '¡' :  85,\n",
            "  'ª' :  86,\n",
            "  '«' :  87,\n",
            "  'º' :  88,\n",
            "  '»' :  89,\n",
            "  '¿' :  90,\n",
            "  'À' :  91,\n",
            "  'Á' :  92,\n",
            "  'É' :  93,\n",
            "  'Í' :  94,\n",
            "  'Ó' :  95,\n",
            "  'Ú' :  96,\n",
            "  'à' :  97,\n",
            "  'á' :  98,\n",
            "  'ç' :  99,\n",
            "  'è' : 100,\n",
            "  'é' : 101,\n",
            "  'í' : 102,\n",
            "  'ñ' : 103,\n",
            "  'ó' : 104,\n",
            "  'ú' : 105,\n",
            "  'ü' : 106,\n",
            "  '“' : 107,\n",
            "  '”' : 108,\n",
            "  '…' : 109,\n"
          ]
        }
      ]
    },
    {
      "cell_type": "code",
      "metadata": {
        "id": "ML-DuUyi_aHy"
      },
      "source": [
        "text_as_int = np.array([char2idx[c] for c in text])"
      ],
      "execution_count": null,
      "outputs": []
    },
    {
      "cell_type": "code",
      "metadata": {
        "id": "l1VKcQHcymwb",
        "outputId": "0ad0b3e4-36df-4712-e0f1-43b19aaa1e45",
        "colab": {
          "base_uri": "https://localhost:8080/"
        }
      },
      "source": [
        "print ('texto: {}'.format(repr(text[:50])))\n",
        "print ('{}'.format(repr(text_as_int[:50])))"
      ],
      "execution_count": null,
      "outputs": [
        {
          "output_type": "stream",
          "name": "stdout",
          "text": [
            "texto: 'text\\n\" Algunas de las voces extremistas más conoci'\n",
            "array([77, 62, 81, 77,  0,  3,  1, 30, 69, 64, 78, 71, 58, 76,  1, 61, 62,\n",
            "        1, 69, 58, 76,  1, 79, 72, 60, 62, 76,  1, 62, 81, 77, 75, 62, 70,\n",
            "       66, 76, 77, 58, 76,  1, 70, 98, 76,  1, 60, 72, 71, 72, 60, 66])\n"
          ]
        }
      ]
    },
    {
      "cell_type": "markdown",
      "metadata": {
        "id": "hgsVvVxnymwf"
      },
      "source": [
        "### Preparar los datos para entrenar la RNN\n"
      ]
    },
    {
      "cell_type": "code",
      "metadata": {
        "id": "0UHJDA39zf-O"
      },
      "source": [
        "char_dataset = tf.data.Dataset.from_tensor_slices(text_as_int)\n",
        "\n",
        "seq_length = 100\n",
        " \n",
        "sequences = char_dataset.batch(seq_length+1, drop_remainder=True)\n",
        "\n"
      ],
      "execution_count": null,
      "outputs": []
    },
    {
      "cell_type": "code",
      "metadata": {
        "id": "l4hkDU3i7ozi",
        "outputId": "009452f2-fbbc-435b-c62e-a84a90b2e61f",
        "colab": {
          "base_uri": "https://localhost:8080/"
        }
      },
      "source": [
        "for item in sequences.take(10):\n",
        "  print(repr(''.join(idx2char[item.numpy()])))"
      ],
      "execution_count": null,
      "outputs": [
        {
          "output_type": "stream",
          "name": "stdout",
          "text": [
            "'text\\n\" Algunas de las voces extremistas más conocidas de EE.UU., cuentas asociadas con al movimiento '\n",
            "'de la conocida como alt-right o ligadas a grupos antisemitas o xenófobos , han sido eliminadas de un '\n",
            "'plumazo de la redes sociales Facebook e Instagram. Se trat\"\\n\" Después de casi dos años y medio de luc'\n",
            "'has políticas y judiciales, Donald Trump ha presentado hoy su proyecto de inmigración para Estados Un'\n",
            "'idos . Es un proyecto elaborado por el yerno y asesor de Donald Trump, Jared Kushner, que sólo concre'\n",
            "'ta una cosa:\"\\n Dos periodistas birmanos de la agencia Reuters fueron liberados este martes al recibir'\n",
            "' un perdón del presidente de su país tras pasar año y medio en prisión por revelar una matanza del Ej'\n",
            "'ército contra la minoría musulmana rohingya. Wa Lone y Kyaw Soe Oo\\n El Cuerpo Nacional de Policía ha '\n",
            "'detenido a cuatro personas acusadas de formar parte de un grupo criminal dedicado al tráfico de seres'\n",
            "' humanos en la frontera francoespañola de Irún (Gipuzkoa). Esta célula captaba extranjeros llegados e'\n"
          ]
        }
      ]
    },
    {
      "cell_type": "code",
      "metadata": {
        "id": "9NGu-FkO_kYU"
      },
      "source": [
        "def split_input_target(chunk):\n",
        "    input_text = chunk[:-1]\n",
        "    target_text = chunk[1:]\n",
        "    return input_text, target_text\n",
        "\n",
        "dataset = sequences.map(split_input_target)\n"
      ],
      "execution_count": null,
      "outputs": []
    },
    {
      "cell_type": "code",
      "metadata": {
        "id": "GNbw-iR0ymwj",
        "outputId": "d3590dcd-cc74-4fb9-96a8-934cd6b438c1",
        "colab": {
          "base_uri": "https://localhost:8080/"
        }
      },
      "source": [
        "for input_example, target_example in  dataset.take(1):\n",
        "  print ('Input data: ', repr(''.join(idx2char[input_example.numpy()])))\n",
        "  print ('Target data:', repr(''.join(idx2char[target_example.numpy()])))"
      ],
      "execution_count": null,
      "outputs": [
        {
          "output_type": "stream",
          "name": "stdout",
          "text": [
            "Input data:  'text\\n\" Algunas de las voces extremistas más conocidas de EE.UU., cuentas asociadas con al movimiento'\n",
            "Target data: 'ext\\n\" Algunas de las voces extremistas más conocidas de EE.UU., cuentas asociadas con al movimiento '\n"
          ]
        }
      ]
    },
    {
      "cell_type": "code",
      "metadata": {
        "id": "0eBu9WZG84i0",
        "outputId": "69776b18-c395-4b5d-f834-24ed29429006",
        "colab": {
          "base_uri": "https://localhost:8080/"
        }
      },
      "source": [
        "print (dataset)"
      ],
      "execution_count": null,
      "outputs": [
        {
          "output_type": "stream",
          "name": "stdout",
          "text": [
            "<MapDataset element_spec=(TensorSpec(shape=(100,), dtype=tf.int64, name=None), TensorSpec(shape=(100,), dtype=tf.int64, name=None))>\n"
          ]
        }
      ]
    },
    {
      "cell_type": "code",
      "metadata": {
        "id": "p2pGotuNzf-S",
        "outputId": "a27fb43d-9271-4171-a41a-998c58b54326",
        "colab": {
          "base_uri": "https://localhost:8080/"
        }
      },
      "source": [
        "BATCH_SIZE = 64\n",
        "\n",
        "BUFFER_SIZE = 10000\n",
        "\n",
        "dataset = dataset.shuffle(BUFFER_SIZE).batch(BATCH_SIZE, drop_remainder=True)\n",
        "\n",
        "print (dataset)"
      ],
      "execution_count": null,
      "outputs": [
        {
          "output_type": "stream",
          "name": "stdout",
          "text": [
            "<BatchDataset element_spec=(TensorSpec(shape=(64, 100), dtype=tf.int64, name=None), TensorSpec(shape=(64, 100), dtype=tf.int64, name=None))>\n"
          ]
        }
      ]
    },
    {
      "cell_type": "markdown",
      "metadata": {
        "id": "r6oUuElIMgVx"
      },
      "source": [
        "### Construcción del modelo"
      ]
    },
    {
      "cell_type": "code",
      "metadata": {
        "id": "zHT8cLh7EAsg"
      },
      "source": [
        "vocab_size = len(vocab)\n",
        "embedding_dim = 256\n",
        "rnn_units = 1024"
      ],
      "execution_count": null,
      "outputs": []
    },
    {
      "cell_type": "code",
      "metadata": {
        "id": "3pKJl2dqwHRl"
      },
      "source": [
        "from tensorflow.keras import Sequential\n",
        "from tensorflow.keras.layers import Embedding, LSTM, Dense\n",
        "\n",
        "def build_model(vocab_size, embedding_dim, rnn_units, batch_size):\n",
        "  model = Sequential()\n",
        "  model.add(Embedding(input_dim=vocab_size, \n",
        "                      output_dim=embedding_dim, \n",
        "                      batch_input_shape=[batch_size, None]))\n",
        "  model.add(LSTM(rnn_units,\n",
        "                 return_sequences=True,\n",
        "                 stateful=True,\n",
        "                 recurrent_initializer='glorot_uniform'))\n",
        "  model.add(Dense(vocab_size))\n",
        "  return model"
      ],
      "execution_count": null,
      "outputs": []
    },
    {
      "cell_type": "code",
      "metadata": {
        "id": "wwsrpOik5zhv"
      },
      "source": [
        "model = build_model(\n",
        "  vocab_size = len(vocab),\n",
        "  embedding_dim=embedding_dim,\n",
        "  rnn_units=rnn_units,\n",
        "  batch_size=BATCH_SIZE)"
      ],
      "execution_count": null,
      "outputs": []
    },
    {
      "cell_type": "code",
      "metadata": {
        "id": "PpHGXDMcZ0Zt",
        "outputId": "6b9e9b2b-7aa4-4b41-8507-99fa11d81af6",
        "colab": {
          "base_uri": "https://localhost:8080/"
        }
      },
      "source": [
        "model.summary()"
      ],
      "execution_count": null,
      "outputs": [
        {
          "output_type": "stream",
          "name": "stdout",
          "text": [
            "Model: \"sequential\"\n",
            "_________________________________________________________________\n",
            " Layer (type)                Output Shape              Param #   \n",
            "=================================================================\n",
            " embedding (Embedding)       (64, None, 256)           15872     \n",
            "                                                                 \n",
            " lstm (LSTM)                 (64, None, 1024)          5246976   \n",
            "                                                                 \n",
            " dense (Dense)               (64, None, 62)            63550     \n",
            "                                                                 \n",
            "=================================================================\n",
            "Total params: 5,326,398\n",
            "Trainable params: 5,326,398\n",
            "Non-trainable params: 0\n",
            "_________________________________________________________________\n"
          ]
        }
      ]
    },
    {
      "cell_type": "code",
      "metadata": {
        "id": "C-_70kKAPrPU",
        "outputId": "eac6d9b8-f18d-44ef-ffcd-7b3579a2893c",
        "colab": {
          "base_uri": "https://localhost:8080/"
        }
      },
      "source": [
        "for input_example_batch, target_example_batch in dataset.take(1):\n",
        "  print(\"Input:\", input_example_batch.shape, \"# (batch_size, sequence_length)\")\n",
        "  print(\"Target:\", target_example_batch.shape, \"# (batch_size, sequence_length)\")\n"
      ],
      "execution_count": null,
      "outputs": [
        {
          "output_type": "stream",
          "name": "stdout",
          "text": [
            "Input: (64, 100) # (batch_size, sequence_length)\n",
            "Target: (64, 100) # (batch_size, sequence_length)\n"
          ]
        }
      ]
    },
    {
      "cell_type": "code",
      "metadata": {
        "id": "udE_6eTldMhB",
        "outputId": "e7da8f57-9eec-48d9-ef2e-11700b015451",
        "colab": {
          "base_uri": "https://localhost:8080/"
        }
      },
      "source": [
        "for input_example_batch, target_example_batch in dataset.take(1):  \n",
        "    example_batch_predictions = model(input_example_batch)\n",
        "    print(\"Prediction: \", example_batch_predictions.shape, \"# (batch_size, sequence_length, vocab_size)\")"
      ],
      "execution_count": null,
      "outputs": [
        {
          "output_type": "stream",
          "name": "stdout",
          "text": [
            "Prediction:  (64, 100, 110) # (batch_size, sequence_length, vocab_size)\n"
          ]
        }
      ]
    },
    {
      "cell_type": "code",
      "metadata": {
        "id": "4V4MfFg0RQJg"
      },
      "source": [
        "sampled_indices = tf.random.categorical(example_batch_predictions[0], num_samples=1)\n",
        "sampled_indices_characters = tf.squeeze(sampled_indices,axis=-1).numpy()"
      ],
      "execution_count": null,
      "outputs": []
    },
    {
      "cell_type": "code",
      "metadata": {
        "id": "YqFMUQc_UFgM",
        "outputId": "4016fc60-cde5-42af-8e7b-129b7b7e88fd",
        "colab": {
          "base_uri": "https://localhost:8080/"
        }
      },
      "source": [
        "sampled_indices_characters"
      ],
      "execution_count": null,
      "outputs": [
        {
          "output_type": "execute_result",
          "data": {
            "text/plain": [
              "array([ 74,  62, 109,  14,  99,  76,  26,  27,  56,  61,  55,  71,  75,\n",
              "       103,  98,  96,  38, 103,  64,  20,  25,  82, 103,  73, 105,  32,\n",
              "         3,  73,  21,  27,   6,  55,  64,  10,  25,  51,  36,   1,  64,\n",
              "        85,  99,  83,  83,  83,  81,   7,  45,  26,   6,  96,  89,  79,\n",
              "        63, 108, 102,  49, 107,  77,  12,  81,  36,  94,  66,  49,  76,\n",
              "         0,  44,  10,   3,  39,  39,  55, 104,   1,  70,  73,  33,  52,\n",
              "       105,  62,  72,  58,  94,   0,  56, 102,  45,  18,   4,   7,  33,\n",
              "         0,  97,  43,  74,  26,  67, 103,  22,  10])"
            ]
          },
          "metadata": {},
          "execution_count": 49
        }
      ]
    },
    {
      "cell_type": "markdown",
      "metadata": {
        "id": "trpqTWyvk0nr"
      },
      "source": [
        "Entrenar el modelo"
      ]
    },
    {
      "cell_type": "code",
      "metadata": {
        "id": "4HrXTACTdzY-"
      },
      "source": [
        "def loss(labels, logits):\n",
        "  return tf.keras.losses.sparse_categorical_crossentropy(labels, logits, from_logits=True)"
      ],
      "execution_count": null,
      "outputs": []
    },
    {
      "cell_type": "code",
      "metadata": {
        "id": "DDl1_Een6rL0"
      },
      "source": [
        "model.compile(optimizer='adam', loss=loss)"
      ],
      "execution_count": null,
      "outputs": []
    },
    {
      "cell_type": "markdown",
      "metadata": {
        "id": "ieSJdchZggUj"
      },
      "source": [
        "Configurar el *checkpoints*"
      ]
    },
    {
      "cell_type": "code",
      "metadata": {
        "id": "W6fWTriUZP-n"
      },
      "source": [
        " # directorio\n",
        "checkpoint_dir = './training_checkpoints'\n",
        "# nombre fichero\n",
        "checkpoint_prefix = os.path.join(checkpoint_dir, \"ckpt_{epoch}\")\n",
        "\n",
        "checkpoint_callback=tf.keras.callbacks.ModelCheckpoint(\n",
        "    filepath=checkpoint_prefix,\n",
        "    save_weights_only=True)"
      ],
      "execution_count": null,
      "outputs": []
    },
    {
      "cell_type": "markdown",
      "metadata": {
        "id": "3Ky3F_BhgkTW"
      },
      "source": [
        "*Training*"
      ]
    },
    {
      "cell_type": "code",
      "metadata": {
        "id": "UK-hmKjYVoll",
        "outputId": "49b25a9f-5104-4219-ff74-7244c45a4bf6",
        "colab": {
          "base_uri": "https://localhost:8080/"
        }
      },
      "source": [
        "EPOCHS=70\n",
        "history = model.fit(dataset, epochs=EPOCHS, callbacks=[checkpoint_callback])"
      ],
      "execution_count": null,
      "outputs": [
        {
          "output_type": "stream",
          "name": "stdout",
          "text": [
            "Epoch 1/70\n",
            "37/37 [==============================] - 4s 73ms/step - loss: 3.2097\n",
            "Epoch 2/70\n",
            "37/37 [==============================] - 3s 68ms/step - loss: 2.7213\n",
            "Epoch 3/70\n",
            "37/37 [==============================] - 3s 67ms/step - loss: 2.4812\n",
            "Epoch 4/70\n",
            "37/37 [==============================] - 3s 68ms/step - loss: 2.3491\n",
            "Epoch 5/70\n",
            "37/37 [==============================] - 3s 70ms/step - loss: 2.2577\n",
            "Epoch 6/70\n",
            "37/37 [==============================] - 3s 75ms/step - loss: 2.1874\n",
            "Epoch 7/70\n",
            "37/37 [==============================] - 3s 69ms/step - loss: 2.1173\n",
            "Epoch 8/70\n",
            "37/37 [==============================] - 3s 70ms/step - loss: 2.0504\n",
            "Epoch 9/70\n",
            "37/37 [==============================] - 3s 71ms/step - loss: 1.9923\n",
            "Epoch 10/70\n",
            "37/37 [==============================] - 3s 71ms/step - loss: 1.9359\n",
            "Epoch 11/70\n",
            "37/37 [==============================] - 3s 70ms/step - loss: 1.8806\n",
            "Epoch 12/70\n",
            "37/37 [==============================] - 3s 70ms/step - loss: 1.8284\n",
            "Epoch 13/70\n",
            "37/37 [==============================] - 3s 72ms/step - loss: 1.7771\n",
            "Epoch 14/70\n",
            "37/37 [==============================] - 3s 71ms/step - loss: 1.7275\n",
            "Epoch 15/70\n",
            "37/37 [==============================] - 3s 71ms/step - loss: 1.6801\n",
            "Epoch 16/70\n",
            "37/37 [==============================] - 3s 73ms/step - loss: 1.6352\n",
            "Epoch 17/70\n",
            "37/37 [==============================] - 3s 71ms/step - loss: 1.5922\n",
            "Epoch 18/70\n",
            "37/37 [==============================] - 3s 72ms/step - loss: 1.5489\n",
            "Epoch 19/70\n",
            "37/37 [==============================] - 3s 72ms/step - loss: 1.5104\n",
            "Epoch 20/70\n",
            "37/37 [==============================] - 3s 76ms/step - loss: 1.4744\n",
            "Epoch 21/70\n",
            "37/37 [==============================] - 3s 72ms/step - loss: 1.4352\n",
            "Epoch 22/70\n",
            "37/37 [==============================] - 3s 72ms/step - loss: 1.4036\n",
            "Epoch 23/70\n",
            "37/37 [==============================] - 3s 73ms/step - loss: 1.3695\n",
            "Epoch 24/70\n",
            "37/37 [==============================] - 3s 73ms/step - loss: 1.3371\n",
            "Epoch 25/70\n",
            "37/37 [==============================] - 3s 73ms/step - loss: 1.3024\n",
            "Epoch 26/70\n",
            "37/37 [==============================] - 3s 79ms/step - loss: 1.2744\n",
            "Epoch 27/70\n",
            "37/37 [==============================] - 3s 72ms/step - loss: 1.2445\n",
            "Epoch 28/70\n",
            "37/37 [==============================] - 3s 72ms/step - loss: 1.2141\n",
            "Epoch 29/70\n",
            "37/37 [==============================] - 3s 72ms/step - loss: 1.1827\n",
            "Epoch 30/70\n",
            "37/37 [==============================] - 3s 76ms/step - loss: 1.1556\n",
            "Epoch 31/70\n",
            "37/37 [==============================] - 3s 72ms/step - loss: 1.1220\n",
            "Epoch 32/70\n",
            "37/37 [==============================] - 3s 71ms/step - loss: 1.0932\n",
            "Epoch 33/70\n",
            "37/37 [==============================] - 3s 72ms/step - loss: 1.0625\n",
            "Epoch 34/70\n",
            "37/37 [==============================] - 3s 71ms/step - loss: 1.0319\n",
            "Epoch 35/70\n",
            "37/37 [==============================] - 3s 71ms/step - loss: 1.0001\n",
            "Epoch 36/70\n",
            "37/37 [==============================] - 3s 71ms/step - loss: 0.9682\n",
            "Epoch 37/70\n",
            "37/37 [==============================] - 3s 72ms/step - loss: 0.9380\n",
            "Epoch 38/70\n",
            "37/37 [==============================] - 3s 72ms/step - loss: 0.9066\n",
            "Epoch 39/70\n",
            "37/37 [==============================] - 3s 71ms/step - loss: 0.8762\n",
            "Epoch 40/70\n",
            "37/37 [==============================] - 3s 72ms/step - loss: 0.8457\n",
            "Epoch 41/70\n",
            "37/37 [==============================] - 3s 73ms/step - loss: 0.8180\n",
            "Epoch 42/70\n",
            "37/37 [==============================] - 3s 72ms/step - loss: 0.7879\n",
            "Epoch 43/70\n",
            "37/37 [==============================] - 3s 73ms/step - loss: 0.7585\n",
            "Epoch 44/70\n",
            "37/37 [==============================] - 3s 72ms/step - loss: 0.7271\n",
            "Epoch 45/70\n",
            "37/37 [==============================] - 3s 72ms/step - loss: 0.6980\n",
            "Epoch 46/70\n",
            "37/37 [==============================] - 3s 71ms/step - loss: 0.6737\n",
            "Epoch 47/70\n",
            "37/37 [==============================] - 3s 76ms/step - loss: 0.6464\n",
            "Epoch 48/70\n",
            "37/37 [==============================] - 3s 75ms/step - loss: 0.6194\n",
            "Epoch 49/70\n",
            "37/37 [==============================] - 3s 75ms/step - loss: 0.6001\n",
            "Epoch 50/70\n",
            "37/37 [==============================] - 3s 71ms/step - loss: 0.5755\n",
            "Epoch 51/70\n",
            "37/37 [==============================] - 3s 71ms/step - loss: 0.5528\n",
            "Epoch 52/70\n",
            "37/37 [==============================] - 3s 71ms/step - loss: 0.5309\n",
            "Epoch 53/70\n",
            "37/37 [==============================] - 3s 72ms/step - loss: 0.5116\n",
            "Epoch 54/70\n",
            "37/37 [==============================] - 3s 71ms/step - loss: 0.4919\n",
            "Epoch 55/70\n",
            "37/37 [==============================] - 3s 72ms/step - loss: 0.4737\n",
            "Epoch 56/70\n",
            "37/37 [==============================] - 3s 72ms/step - loss: 0.4604\n",
            "Epoch 57/70\n",
            "37/37 [==============================] - 3s 71ms/step - loss: 0.4422\n",
            "Epoch 58/70\n",
            "37/37 [==============================] - 3s 73ms/step - loss: 0.4288\n",
            "Epoch 59/70\n",
            "37/37 [==============================] - 3s 71ms/step - loss: 0.4144\n",
            "Epoch 60/70\n",
            "37/37 [==============================] - 3s 73ms/step - loss: 0.4027\n",
            "Epoch 61/70\n",
            "37/37 [==============================] - 3s 71ms/step - loss: 0.3913\n",
            "Epoch 62/70\n",
            "37/37 [==============================] - 3s 71ms/step - loss: 0.3774\n",
            "Epoch 63/70\n",
            "37/37 [==============================] - 3s 73ms/step - loss: 0.3679\n",
            "Epoch 64/70\n",
            "37/37 [==============================] - 3s 71ms/step - loss: 0.3585\n",
            "Epoch 65/70\n",
            "37/37 [==============================] - 3s 73ms/step - loss: 0.3497\n",
            "Epoch 66/70\n",
            "37/37 [==============================] - 3s 71ms/step - loss: 0.3423\n",
            "Epoch 67/70\n",
            "37/37 [==============================] - 3s 72ms/step - loss: 0.3385\n",
            "Epoch 68/70\n",
            "37/37 [==============================] - 3s 70ms/step - loss: 0.3297\n",
            "Epoch 69/70\n",
            "37/37 [==============================] - 3s 71ms/step - loss: 0.3213\n",
            "Epoch 70/70\n",
            "37/37 [==============================] - 3s 71ms/step - loss: 0.3156\n"
          ]
        }
      ]
    },
    {
      "cell_type": "markdown",
      "metadata": {
        "id": "kKkD5M6eoSiN"
      },
      "source": [
        "### Generación de texto"
      ]
    },
    {
      "cell_type": "code",
      "metadata": {
        "id": "zk2WJ2-XjkGz",
        "outputId": "b8e63fb6-0b6a-406a-db77-21892e1c54ff",
        "colab": {
          "base_uri": "https://localhost:8080/",
          "height": 35
        }
      },
      "source": [
        "tf.train.latest_checkpoint(checkpoint_dir)"
      ],
      "execution_count": null,
      "outputs": [
        {
          "output_type": "execute_result",
          "data": {
            "text/plain": [
              "'./training_checkpoints/ckpt_70'"
            ],
            "application/vnd.google.colaboratory.intrinsic+json": {
              "type": "string"
            }
          },
          "metadata": {},
          "execution_count": 54
        }
      ]
    },
    {
      "cell_type": "code",
      "metadata": {
        "id": "LycQ-ot_jjyu"
      },
      "source": [
        "model = build_model(vocab_size, embedding_dim, rnn_units, batch_size=1)\n",
        "\n",
        "model.load_weights(tf.train.latest_checkpoint(checkpoint_dir))\n",
        "\n",
        "model.build(tf.TensorShape([1, None]))"
      ],
      "execution_count": null,
      "outputs": []
    },
    {
      "cell_type": "code",
      "metadata": {
        "id": "WvuwZBX5Ogfd"
      },
      "source": [
        "def generate_text(model, start_string):\n",
        "\n",
        "  num_generate = 300\n",
        "  input_eval = [char2idx[s] for s in start_string]\n",
        "\n",
        "  input_eval = tf.expand_dims(input_eval, 0)\n",
        "  text_generated = []\n",
        "\n",
        "\n",
        "  temperature = 0.5\n",
        "\n",
        "  model.reset_states()\n",
        "  for i in range(num_generate):\n",
        "      predictions = model(input_eval)\n",
        "      \n",
        "      predictions = tf.squeeze(predictions, 0)\n",
        "\n",
        "      predictions = predictions / temperature\n",
        "      predicted_id = tf.random.categorical(predictions, num_samples=1)[-1,0].numpy()\n",
        "\n",
        "\n",
        "      input_eval = tf.expand_dims([predicted_id], 0)\n",
        "\n",
        "      text_generated.append(idx2char[predicted_id])\n",
        "\n",
        "  return (start_string + ''.join(text_generated))"
      ],
      "execution_count": null,
      "outputs": []
    },
    {
      "cell_type": "code",
      "metadata": {
        "id": "ktovv0RFhrkn",
        "outputId": "4f1c51e1-0cd9-4cb3-b8ae-277d04d661f9",
        "colab": {
          "base_uri": "https://localhost:8080/"
        }
      },
      "source": [
        "print(generate_text(model, start_string=u\"la\"))"
      ],
      "execution_count": null,
      "outputs": [
        {
          "output_type": "stream",
          "name": "stdout",
          "text": [
            "la solo confirmar una media de 23.120 cotizantes extranjeros en el ejército en un comunicado, ha instado a que todos los\"\n",
            "La Comunidad Valenciana pasa a alerta amarilla espacio político provisional, como el pueblo con su posible concejales del Estado Isale, el capital de Dia, el consejero delegado de \n"
          ]
        }
      ]
    }
  ]
}